{
  "nbformat": 4,
  "nbformat_minor": 0,
  "metadata": {
    "colab": {
      "name": "TP_Final_Rec.ipynb",
      "provenance": []
    },
    "kernelspec": {
      "name": "python3",
      "display_name": "Python 3"
    }
  },
  "cells": [
    {
      "cell_type": "markdown",
      "metadata": {
        "id": "-fJMjb5N5WNx"
      },
      "source": [
        "## Importing libraries"
      ]
    },
    {
      "cell_type": "code",
      "metadata": {
        "id": "iJqgjx6D5IEK"
      },
      "source": [
        "import os\r\n",
        "import numpy as np\r\n",
        "import pandas as pd\r\n",
        "import datetime as dt\r\n",
        "import matplotlib.pyplot as plt\r\n",
        "import seaborn as sns\r\n",
        "\r\n",
        "from sklearn.preprocessing import OneHotEncoder\r\n",
        "from sklearn.preprocessing import LabelEncoder\r\n",
        "from sklearn.model_selection import train_test_split\r\n",
        "from sklearn.metrics import f1_score\r\n",
        "from sklearn.metrics import accuracy_score\r\n",
        "from sklearn.metrics import recall_score\r\n",
        "from sklearn.metrics import precision_score\r\n",
        "from sklearn.model_selection import cross_validate\r\n",
        "from sklearn.model_selection import cross_val_score as CVS\r\n",
        "from xgboost import XGBClassifier\r\n",
        "from sklearn.ensemble import RandomForestClassifier\r\n",
        "from sklearn.linear_model import LogisticRegression"
      ],
      "execution_count": 62,
      "outputs": []
    },
    {
      "cell_type": "markdown",
      "metadata": {
        "id": "ZLLjdbvY7ofI"
      },
      "source": [
        "## Conecting to Google Drive"
      ]
    },
    {
      "cell_type": "code",
      "metadata": {
        "colab": {
          "base_uri": "https://localhost:8080/"
        },
        "id": "chOO7d5p7swi",
        "outputId": "6ac9929f-236e-4a74-86cf-e660f0fa97ac"
      },
      "source": [
        "from google.colab import drive\r\n",
        "drive.mount('/content/drive')"
      ],
      "execution_count": 63,
      "outputs": [
        {
          "output_type": "stream",
          "text": [
            "Drive already mounted at /content/drive; to attempt to forcibly remount, call drive.mount(\"/content/drive\", force_remount=True).\n"
          ],
          "name": "stdout"
        }
      ]
    },
    {
      "cell_type": "markdown",
      "metadata": {
        "id": "rJp-NACv72YU"
      },
      "source": [
        "## Load, analyse and pre-processing data"
      ]
    },
    {
      "cell_type": "code",
      "metadata": {
        "id": "uieBnG877u3S"
      },
      "source": [
        "# Load train and test data sets, indexing by number Id\r\n",
        "df_train = pd.read_csv(\"/content/drive/MyDrive/Datasets/carInsurance_train.csv\", index_col= 'Id')\r\n",
        "df_test = pd.read_csv(\"/content/drive/MyDrive/Datasets/carInsurance_test.csv\", index_col= 'Id')"
      ],
      "execution_count": 64,
      "outputs": []
    },
    {
      "cell_type": "code",
      "metadata": {
        "colab": {
          "base_uri": "https://localhost:8080/",
          "height": 250
        },
        "id": "pdifHW5x8dUI",
        "outputId": "d1325742-2d85-4c00-e6cf-b3c909a20314"
      },
      "source": [
        "# Apllying the function head() to have a quick look of the dataset\r\n",
        "df_train.head()"
      ],
      "execution_count": 65,
      "outputs": [
        {
          "output_type": "execute_result",
          "data": {
            "text/html": [
              "<div>\n",
              "<style scoped>\n",
              "    .dataframe tbody tr th:only-of-type {\n",
              "        vertical-align: middle;\n",
              "    }\n",
              "\n",
              "    .dataframe tbody tr th {\n",
              "        vertical-align: top;\n",
              "    }\n",
              "\n",
              "    .dataframe thead th {\n",
              "        text-align: right;\n",
              "    }\n",
              "</style>\n",
              "<table border=\"1\" class=\"dataframe\">\n",
              "  <thead>\n",
              "    <tr style=\"text-align: right;\">\n",
              "      <th></th>\n",
              "      <th>Age</th>\n",
              "      <th>Job</th>\n",
              "      <th>Marital</th>\n",
              "      <th>Education</th>\n",
              "      <th>Default</th>\n",
              "      <th>Balance</th>\n",
              "      <th>HHInsurance</th>\n",
              "      <th>CarLoan</th>\n",
              "      <th>Communication</th>\n",
              "      <th>LastContactDay</th>\n",
              "      <th>LastContactMonth</th>\n",
              "      <th>NoOfContacts</th>\n",
              "      <th>DaysPassed</th>\n",
              "      <th>PrevAttempts</th>\n",
              "      <th>Outcome</th>\n",
              "      <th>CallStart</th>\n",
              "      <th>CallEnd</th>\n",
              "      <th>CarInsurance</th>\n",
              "    </tr>\n",
              "    <tr>\n",
              "      <th>Id</th>\n",
              "      <th></th>\n",
              "      <th></th>\n",
              "      <th></th>\n",
              "      <th></th>\n",
              "      <th></th>\n",
              "      <th></th>\n",
              "      <th></th>\n",
              "      <th></th>\n",
              "      <th></th>\n",
              "      <th></th>\n",
              "      <th></th>\n",
              "      <th></th>\n",
              "      <th></th>\n",
              "      <th></th>\n",
              "      <th></th>\n",
              "      <th></th>\n",
              "      <th></th>\n",
              "      <th></th>\n",
              "    </tr>\n",
              "  </thead>\n",
              "  <tbody>\n",
              "    <tr>\n",
              "      <th>1</th>\n",
              "      <td>32</td>\n",
              "      <td>management</td>\n",
              "      <td>single</td>\n",
              "      <td>tertiary</td>\n",
              "      <td>0</td>\n",
              "      <td>1218</td>\n",
              "      <td>1</td>\n",
              "      <td>0</td>\n",
              "      <td>telephone</td>\n",
              "      <td>28</td>\n",
              "      <td>jan</td>\n",
              "      <td>2</td>\n",
              "      <td>-1</td>\n",
              "      <td>0</td>\n",
              "      <td>NaN</td>\n",
              "      <td>13:45:20</td>\n",
              "      <td>13:46:30</td>\n",
              "      <td>0</td>\n",
              "    </tr>\n",
              "    <tr>\n",
              "      <th>2</th>\n",
              "      <td>32</td>\n",
              "      <td>blue-collar</td>\n",
              "      <td>married</td>\n",
              "      <td>primary</td>\n",
              "      <td>0</td>\n",
              "      <td>1156</td>\n",
              "      <td>1</td>\n",
              "      <td>0</td>\n",
              "      <td>NaN</td>\n",
              "      <td>26</td>\n",
              "      <td>may</td>\n",
              "      <td>5</td>\n",
              "      <td>-1</td>\n",
              "      <td>0</td>\n",
              "      <td>NaN</td>\n",
              "      <td>14:49:03</td>\n",
              "      <td>14:52:08</td>\n",
              "      <td>0</td>\n",
              "    </tr>\n",
              "    <tr>\n",
              "      <th>3</th>\n",
              "      <td>29</td>\n",
              "      <td>management</td>\n",
              "      <td>single</td>\n",
              "      <td>tertiary</td>\n",
              "      <td>0</td>\n",
              "      <td>637</td>\n",
              "      <td>1</td>\n",
              "      <td>0</td>\n",
              "      <td>cellular</td>\n",
              "      <td>3</td>\n",
              "      <td>jun</td>\n",
              "      <td>1</td>\n",
              "      <td>119</td>\n",
              "      <td>1</td>\n",
              "      <td>failure</td>\n",
              "      <td>16:30:24</td>\n",
              "      <td>16:36:04</td>\n",
              "      <td>1</td>\n",
              "    </tr>\n",
              "    <tr>\n",
              "      <th>4</th>\n",
              "      <td>25</td>\n",
              "      <td>student</td>\n",
              "      <td>single</td>\n",
              "      <td>primary</td>\n",
              "      <td>0</td>\n",
              "      <td>373</td>\n",
              "      <td>1</td>\n",
              "      <td>0</td>\n",
              "      <td>cellular</td>\n",
              "      <td>11</td>\n",
              "      <td>may</td>\n",
              "      <td>2</td>\n",
              "      <td>-1</td>\n",
              "      <td>0</td>\n",
              "      <td>NaN</td>\n",
              "      <td>12:06:43</td>\n",
              "      <td>12:20:22</td>\n",
              "      <td>1</td>\n",
              "    </tr>\n",
              "    <tr>\n",
              "      <th>5</th>\n",
              "      <td>30</td>\n",
              "      <td>management</td>\n",
              "      <td>married</td>\n",
              "      <td>tertiary</td>\n",
              "      <td>0</td>\n",
              "      <td>2694</td>\n",
              "      <td>0</td>\n",
              "      <td>0</td>\n",
              "      <td>cellular</td>\n",
              "      <td>3</td>\n",
              "      <td>jun</td>\n",
              "      <td>1</td>\n",
              "      <td>-1</td>\n",
              "      <td>0</td>\n",
              "      <td>NaN</td>\n",
              "      <td>14:35:44</td>\n",
              "      <td>14:38:56</td>\n",
              "      <td>0</td>\n",
              "    </tr>\n",
              "  </tbody>\n",
              "</table>\n",
              "</div>"
            ],
            "text/plain": [
              "    Age          Job  Marital  ... CallStart   CallEnd  CarInsurance\n",
              "Id                             ...                                  \n",
              "1    32   management   single  ...  13:45:20  13:46:30             0\n",
              "2    32  blue-collar  married  ...  14:49:03  14:52:08             0\n",
              "3    29   management   single  ...  16:30:24  16:36:04             1\n",
              "4    25      student   single  ...  12:06:43  12:20:22             1\n",
              "5    30   management  married  ...  14:35:44  14:38:56             0\n",
              "\n",
              "[5 rows x 18 columns]"
            ]
          },
          "metadata": {
            "tags": []
          },
          "execution_count": 65
        }
      ]
    },
    {
      "cell_type": "code",
      "metadata": {
        "colab": {
          "base_uri": "https://localhost:8080/",
          "height": 250
        },
        "id": "z2kTctoY8qj5",
        "outputId": "84367552-debb-48ed-90c8-e2e90b66d93e"
      },
      "source": [
        "df_test.head()"
      ],
      "execution_count": 66,
      "outputs": [
        {
          "output_type": "execute_result",
          "data": {
            "text/html": [
              "<div>\n",
              "<style scoped>\n",
              "    .dataframe tbody tr th:only-of-type {\n",
              "        vertical-align: middle;\n",
              "    }\n",
              "\n",
              "    .dataframe tbody tr th {\n",
              "        vertical-align: top;\n",
              "    }\n",
              "\n",
              "    .dataframe thead th {\n",
              "        text-align: right;\n",
              "    }\n",
              "</style>\n",
              "<table border=\"1\" class=\"dataframe\">\n",
              "  <thead>\n",
              "    <tr style=\"text-align: right;\">\n",
              "      <th></th>\n",
              "      <th>Age</th>\n",
              "      <th>Job</th>\n",
              "      <th>Marital</th>\n",
              "      <th>Education</th>\n",
              "      <th>Default</th>\n",
              "      <th>Balance</th>\n",
              "      <th>HHInsurance</th>\n",
              "      <th>CarLoan</th>\n",
              "      <th>Communication</th>\n",
              "      <th>LastContactDay</th>\n",
              "      <th>LastContactMonth</th>\n",
              "      <th>NoOfContacts</th>\n",
              "      <th>DaysPassed</th>\n",
              "      <th>PrevAttempts</th>\n",
              "      <th>Outcome</th>\n",
              "      <th>CallStart</th>\n",
              "      <th>CallEnd</th>\n",
              "      <th>CarInsurance</th>\n",
              "    </tr>\n",
              "    <tr>\n",
              "      <th>Id</th>\n",
              "      <th></th>\n",
              "      <th></th>\n",
              "      <th></th>\n",
              "      <th></th>\n",
              "      <th></th>\n",
              "      <th></th>\n",
              "      <th></th>\n",
              "      <th></th>\n",
              "      <th></th>\n",
              "      <th></th>\n",
              "      <th></th>\n",
              "      <th></th>\n",
              "      <th></th>\n",
              "      <th></th>\n",
              "      <th></th>\n",
              "      <th></th>\n",
              "      <th></th>\n",
              "      <th></th>\n",
              "    </tr>\n",
              "  </thead>\n",
              "  <tbody>\n",
              "    <tr>\n",
              "      <th>4001</th>\n",
              "      <td>25</td>\n",
              "      <td>admin.</td>\n",
              "      <td>single</td>\n",
              "      <td>secondary</td>\n",
              "      <td>0</td>\n",
              "      <td>1</td>\n",
              "      <td>1</td>\n",
              "      <td>1</td>\n",
              "      <td>NaN</td>\n",
              "      <td>12</td>\n",
              "      <td>may</td>\n",
              "      <td>12</td>\n",
              "      <td>-1</td>\n",
              "      <td>0</td>\n",
              "      <td>NaN</td>\n",
              "      <td>17:17:42</td>\n",
              "      <td>17:18:06</td>\n",
              "      <td>NaN</td>\n",
              "    </tr>\n",
              "    <tr>\n",
              "      <th>4002</th>\n",
              "      <td>40</td>\n",
              "      <td>management</td>\n",
              "      <td>married</td>\n",
              "      <td>tertiary</td>\n",
              "      <td>0</td>\n",
              "      <td>0</td>\n",
              "      <td>1</td>\n",
              "      <td>1</td>\n",
              "      <td>cellular</td>\n",
              "      <td>24</td>\n",
              "      <td>jul</td>\n",
              "      <td>1</td>\n",
              "      <td>-1</td>\n",
              "      <td>0</td>\n",
              "      <td>NaN</td>\n",
              "      <td>09:13:44</td>\n",
              "      <td>09:14:37</td>\n",
              "      <td>NaN</td>\n",
              "    </tr>\n",
              "    <tr>\n",
              "      <th>4003</th>\n",
              "      <td>44</td>\n",
              "      <td>management</td>\n",
              "      <td>single</td>\n",
              "      <td>tertiary</td>\n",
              "      <td>0</td>\n",
              "      <td>-1313</td>\n",
              "      <td>1</td>\n",
              "      <td>1</td>\n",
              "      <td>cellular</td>\n",
              "      <td>15</td>\n",
              "      <td>may</td>\n",
              "      <td>10</td>\n",
              "      <td>-1</td>\n",
              "      <td>0</td>\n",
              "      <td>NaN</td>\n",
              "      <td>15:24:07</td>\n",
              "      <td>15:25:51</td>\n",
              "      <td>NaN</td>\n",
              "    </tr>\n",
              "    <tr>\n",
              "      <th>4004</th>\n",
              "      <td>27</td>\n",
              "      <td>services</td>\n",
              "      <td>single</td>\n",
              "      <td>secondary</td>\n",
              "      <td>0</td>\n",
              "      <td>6279</td>\n",
              "      <td>1</td>\n",
              "      <td>0</td>\n",
              "      <td>cellular</td>\n",
              "      <td>9</td>\n",
              "      <td>nov</td>\n",
              "      <td>1</td>\n",
              "      <td>-1</td>\n",
              "      <td>0</td>\n",
              "      <td>NaN</td>\n",
              "      <td>09:43:44</td>\n",
              "      <td>09:48:01</td>\n",
              "      <td>NaN</td>\n",
              "    </tr>\n",
              "    <tr>\n",
              "      <th>4005</th>\n",
              "      <td>53</td>\n",
              "      <td>technician</td>\n",
              "      <td>married</td>\n",
              "      <td>secondary</td>\n",
              "      <td>0</td>\n",
              "      <td>7984</td>\n",
              "      <td>1</td>\n",
              "      <td>0</td>\n",
              "      <td>cellular</td>\n",
              "      <td>2</td>\n",
              "      <td>feb</td>\n",
              "      <td>1</td>\n",
              "      <td>-1</td>\n",
              "      <td>0</td>\n",
              "      <td>NaN</td>\n",
              "      <td>16:31:51</td>\n",
              "      <td>16:34:22</td>\n",
              "      <td>NaN</td>\n",
              "    </tr>\n",
              "  </tbody>\n",
              "</table>\n",
              "</div>"
            ],
            "text/plain": [
              "      Age         Job  Marital  ... CallStart   CallEnd  CarInsurance\n",
              "Id                              ...                                  \n",
              "4001   25      admin.   single  ...  17:17:42  17:18:06           NaN\n",
              "4002   40  management  married  ...  09:13:44  09:14:37           NaN\n",
              "4003   44  management   single  ...  15:24:07  15:25:51           NaN\n",
              "4004   27    services   single  ...  09:43:44  09:48:01           NaN\n",
              "4005   53  technician  married  ...  16:31:51  16:34:22           NaN\n",
              "\n",
              "[5 rows x 18 columns]"
            ]
          },
          "metadata": {
            "tags": []
          },
          "execution_count": 66
        }
      ]
    },
    {
      "cell_type": "code",
      "metadata": {
        "colab": {
          "base_uri": "https://localhost:8080/"
        },
        "id": "KhwMdKth9Sll",
        "outputId": "b0e921ef-7202-480b-ed00-d0cf8d175f1f"
      },
      "source": [
        "# Apply the function info() to check the data type and if have missing values\r\n",
        "df_train.info()"
      ],
      "execution_count": 67,
      "outputs": [
        {
          "output_type": "stream",
          "text": [
            "<class 'pandas.core.frame.DataFrame'>\n",
            "Int64Index: 4000 entries, 1 to 4000\n",
            "Data columns (total 18 columns):\n",
            " #   Column            Non-Null Count  Dtype \n",
            "---  ------            --------------  ----- \n",
            " 0   Age               4000 non-null   int64 \n",
            " 1   Job               3981 non-null   object\n",
            " 2   Marital           4000 non-null   object\n",
            " 3   Education         3831 non-null   object\n",
            " 4   Default           4000 non-null   int64 \n",
            " 5   Balance           4000 non-null   int64 \n",
            " 6   HHInsurance       4000 non-null   int64 \n",
            " 7   CarLoan           4000 non-null   int64 \n",
            " 8   Communication     3098 non-null   object\n",
            " 9   LastContactDay    4000 non-null   int64 \n",
            " 10  LastContactMonth  4000 non-null   object\n",
            " 11  NoOfContacts      4000 non-null   int64 \n",
            " 12  DaysPassed        4000 non-null   int64 \n",
            " 13  PrevAttempts      4000 non-null   int64 \n",
            " 14  Outcome           958 non-null    object\n",
            " 15  CallStart         4000 non-null   object\n",
            " 16  CallEnd           4000 non-null   object\n",
            " 17  CarInsurance      4000 non-null   int64 \n",
            "dtypes: int64(10), object(8)\n",
            "memory usage: 593.8+ KB\n"
          ],
          "name": "stdout"
        }
      ]
    },
    {
      "cell_type": "code",
      "metadata": {
        "colab": {
          "base_uri": "https://localhost:8080/"
        },
        "id": "0ccHeNhV9ocN",
        "outputId": "3b8b1ebd-0ee6-46e4-abff-a8deb3807fc8"
      },
      "source": [
        "df_test.info()"
      ],
      "execution_count": 68,
      "outputs": [
        {
          "output_type": "stream",
          "text": [
            "<class 'pandas.core.frame.DataFrame'>\n",
            "Int64Index: 1000 entries, 4001 to 5000\n",
            "Data columns (total 18 columns):\n",
            " #   Column            Non-Null Count  Dtype  \n",
            "---  ------            --------------  -----  \n",
            " 0   Age               1000 non-null   int64  \n",
            " 1   Job               995 non-null    object \n",
            " 2   Marital           1000 non-null   object \n",
            " 3   Education         953 non-null    object \n",
            " 4   Default           1000 non-null   int64  \n",
            " 5   Balance           1000 non-null   int64  \n",
            " 6   HHInsurance       1000 non-null   int64  \n",
            " 7   CarLoan           1000 non-null   int64  \n",
            " 8   Communication     779 non-null    object \n",
            " 9   LastContactDay    1000 non-null   int64  \n",
            " 10  LastContactMonth  1000 non-null   object \n",
            " 11  NoOfContacts      1000 non-null   int64  \n",
            " 12  DaysPassed        1000 non-null   int64  \n",
            " 13  PrevAttempts      1000 non-null   int64  \n",
            " 14  Outcome           243 non-null    object \n",
            " 15  CallStart         1000 non-null   object \n",
            " 16  CallEnd           1000 non-null   object \n",
            " 17  CarInsurance      0 non-null      float64\n",
            "dtypes: float64(1), int64(9), object(8)\n",
            "memory usage: 148.4+ KB\n"
          ],
          "name": "stdout"
        }
      ]
    },
    {
      "cell_type": "code",
      "metadata": {
        "colab": {
          "base_uri": "https://localhost:8080/"
        },
        "id": "AfwKGO-p9q92",
        "outputId": "e4ca18ae-a421-4f07-a5b8-aa3e2ee6ff79"
      },
      "source": [
        "# Filling missing values by mode in Education, Job and Communication \r\n",
        "missing_values = ['Job', 'Education', 'Communication', 'Outcome']\r\n",
        "for value in missing_values[:3]:\r\n",
        "  df_train[value] = df_train[value].fillna(\r\n",
        "      df_train[value].dropna().mode().values[0])\r\n",
        "\r\n",
        "  print(f\"{value}:\\n{df_train[value].value_counts()}\\n\", '-'*50)"
      ],
      "execution_count": 69,
      "outputs": [
        {
          "output_type": "stream",
          "text": [
            "Job:\n",
            "management       912\n",
            "blue-collar      759\n",
            "technician       660\n",
            "admin.           459\n",
            "services         330\n",
            "retired          249\n",
            "self-employed    140\n",
            "student          131\n",
            "unemployed       130\n",
            "entrepreneur     121\n",
            "housemaid        109\n",
            "Name: Job, dtype: int64\n",
            " --------------------------------------------------\n",
            "Education:\n",
            "secondary    2157\n",
            "tertiary     1282\n",
            "primary       561\n",
            "Name: Education, dtype: int64\n",
            " --------------------------------------------------\n",
            "Communication:\n",
            "cellular     3733\n",
            "telephone     267\n",
            "Name: Communication, dtype: int64\n",
            " --------------------------------------------------\n"
          ],
          "name": "stdout"
        }
      ]
    },
    {
      "cell_type": "code",
      "metadata": {
        "id": "Pl4kZ6fc_bJC"
      },
      "source": [
        "# Filling missing values by no previous contact in Outcome\r\n",
        "for value in missing_values[:3]:\r\n",
        "  df_test[value] = df_test[value].fillna(\r\n",
        "  df_test[value].dropna().mode().values[0])\r\n",
        "\r\n",
        "df_train['Outcome'] = df_train['Outcome'].fillna('no previous contact')\r\n",
        "df_test['Outcome'] = df_test['Outcome'].fillna('no previous contact')"
      ],
      "execution_count": 70,
      "outputs": []
    },
    {
      "cell_type": "code",
      "metadata": {
        "colab": {
          "base_uri": "https://localhost:8080/"
        },
        "id": "-Sr4wk19Blra",
        "outputId": "024f7f6c-43ca-413b-cd23-0c18668b30fc"
      },
      "source": [
        "# Checking if it has no missing value now\r\n",
        "df_train.info()\r\n",
        "df_test.info()"
      ],
      "execution_count": 71,
      "outputs": [
        {
          "output_type": "stream",
          "text": [
            "<class 'pandas.core.frame.DataFrame'>\n",
            "Int64Index: 4000 entries, 1 to 4000\n",
            "Data columns (total 18 columns):\n",
            " #   Column            Non-Null Count  Dtype \n",
            "---  ------            --------------  ----- \n",
            " 0   Age               4000 non-null   int64 \n",
            " 1   Job               4000 non-null   object\n",
            " 2   Marital           4000 non-null   object\n",
            " 3   Education         4000 non-null   object\n",
            " 4   Default           4000 non-null   int64 \n",
            " 5   Balance           4000 non-null   int64 \n",
            " 6   HHInsurance       4000 non-null   int64 \n",
            " 7   CarLoan           4000 non-null   int64 \n",
            " 8   Communication     4000 non-null   object\n",
            " 9   LastContactDay    4000 non-null   int64 \n",
            " 10  LastContactMonth  4000 non-null   object\n",
            " 11  NoOfContacts      4000 non-null   int64 \n",
            " 12  DaysPassed        4000 non-null   int64 \n",
            " 13  PrevAttempts      4000 non-null   int64 \n",
            " 14  Outcome           4000 non-null   object\n",
            " 15  CallStart         4000 non-null   object\n",
            " 16  CallEnd           4000 non-null   object\n",
            " 17  CarInsurance      4000 non-null   int64 \n",
            "dtypes: int64(10), object(8)\n",
            "memory usage: 593.8+ KB\n",
            "<class 'pandas.core.frame.DataFrame'>\n",
            "Int64Index: 1000 entries, 4001 to 5000\n",
            "Data columns (total 18 columns):\n",
            " #   Column            Non-Null Count  Dtype  \n",
            "---  ------            --------------  -----  \n",
            " 0   Age               1000 non-null   int64  \n",
            " 1   Job               1000 non-null   object \n",
            " 2   Marital           1000 non-null   object \n",
            " 3   Education         1000 non-null   object \n",
            " 4   Default           1000 non-null   int64  \n",
            " 5   Balance           1000 non-null   int64  \n",
            " 6   HHInsurance       1000 non-null   int64  \n",
            " 7   CarLoan           1000 non-null   int64  \n",
            " 8   Communication     1000 non-null   object \n",
            " 9   LastContactDay    1000 non-null   int64  \n",
            " 10  LastContactMonth  1000 non-null   object \n",
            " 11  NoOfContacts      1000 non-null   int64  \n",
            " 12  DaysPassed        1000 non-null   int64  \n",
            " 13  PrevAttempts      1000 non-null   int64  \n",
            " 14  Outcome           1000 non-null   object \n",
            " 15  CallStart         1000 non-null   object \n",
            " 16  CallEnd           1000 non-null   object \n",
            " 17  CarInsurance      0 non-null      float64\n",
            "dtypes: float64(1), int64(9), object(8)\n",
            "memory usage: 148.4+ KB\n"
          ],
          "name": "stdout"
        }
      ]
    },
    {
      "cell_type": "markdown",
      "metadata": {
        "id": "nX6OqQzOCgUU"
      },
      "source": [
        "## Data visualization"
      ]
    },
    {
      "cell_type": "code",
      "metadata": {
        "colab": {
          "base_uri": "https://localhost:8080/",
          "height": 510
        },
        "id": "bCtQVJQ4BwqI",
        "outputId": "566d2004-24e9-488f-c68a-42a708986e42"
      },
      "source": [
        "# Plot to see if it has a previous contact\r\n",
        "plt.figure(figsize=(12, 6))\r\n",
        "sns.countplot(x='Outcome', data=df_train, palette='rocket_r')\r\n",
        "plt.title('Outcome', fontsize=14)\r\n",
        "plt.show()\r\n",
        "print('% of total:')\r\n",
        "print(round((df_train['Outcome'].value_counts()/df_train.shape[0]), 4)*100)"
      ],
      "execution_count": 72,
      "outputs": [
        {
          "output_type": "display_data",
          "data": {
            "image/png": "[encoded data removed]",
            "text/plain": [
              "<Figure size 864x432 with 1 Axes>"
            ]
          },
          "metadata": {
            "tags": [],
            "needs_background": "light"
          }
        },
        {
          "output_type": "stream",
          "text": [
            "% of total:\n",
            "no previous contact    76.05\n",
            "failure                10.92\n",
            "success                 8.15\n",
            "other                   4.88\n",
            "Name: Outcome, dtype: float64\n"
          ],
          "name": "stdout"
        }
      ]
    },
    {
      "cell_type": "code",
      "metadata": {
        "colab": {
          "base_uri": "https://localhost:8080/",
          "height": 1000
        },
        "id": "JdTliPbHDaGz",
        "outputId": "0a9b78c4-b55f-4f9c-bcf1-4310c840975f"
      },
      "source": [
        "# Plot to see the number of contacts, if It had\r\n",
        "plt.figure(figsize=(12, 6))\r\n",
        "sns.countplot(x='NoOfContacts', data=df_train, palette='nipy_spectral')\r\n",
        "plt.title('Number of Contacts', fontsize=14)\r\n",
        "plt.show()\r\n",
        "print('% of total:')\r\n",
        "print(round((df_train['NoOfContacts'].value_counts()/df_train.shape[0]), 4)*100)"
      ],
      "execution_count": 73,
      "outputs": [
        {
          "output_type": "display_data",
          "data": {
            "image/png": "[encoded data removed]",
            "text/plain": [
              "<Figure size 864x432 with 1 Axes>"
            ]
          },
          "metadata": {
            "tags": [],
            "needs_background": "light"
          }
        },
        {
          "output_type": "stream",
          "text": [
            "% of total:\n",
            "1     42.12\n",
            "2     27.12\n",
            "3     12.90\n",
            "4      5.92\n",
            "5      4.15\n",
            "6      2.20\n",
            "7      1.22\n",
            "8      1.02\n",
            "9      0.50\n",
            "10     0.45\n",
            "11     0.38\n",
            "17     0.28\n",
            "12     0.28\n",
            "13     0.20\n",
            "14     0.18\n",
            "20     0.10\n",
            "21     0.10\n",
            "25     0.10\n",
            "15     0.08\n",
            "19     0.08\n",
            "23     0.08\n",
            "16     0.08\n",
            "18     0.08\n",
            "24     0.08\n",
            "22     0.08\n",
            "43     0.02\n",
            "26     0.02\n",
            "28     0.02\n",
            "30     0.02\n",
            "32     0.02\n",
            "34     0.02\n",
            "41     0.02\n",
            "27     0.02\n",
            "29     0.02\n",
            "38     0.02\n",
            "Name: NoOfContacts, dtype: float64\n"
          ],
          "name": "stdout"
        }
      ]
    },
    {
      "cell_type": "code",
      "metadata": {
        "colab": {
          "base_uri": "https://localhost:8080/",
          "height": 791
        },
        "id": "0dLZOVrMFFFR",
        "outputId": "b0df7844-e166-4c0b-a5c7-57d25c8854b7"
      },
      "source": [
        "# plot to see previous attempts\r\n",
        "plt.figure(figsize=(12, 6))\r\n",
        "sns.countplot(x='PrevAttempts', data=df_train, palette='coolwarm')\r\n",
        "plt.title('Previous attempts', fontsize=14)\r\n",
        "plt.show()\r\n",
        "print('% of total')\r\n",
        "print(round((df_train['PrevAttempts'].value_counts()/df_train.shape[0]), 4)* 100)"
      ],
      "execution_count": 74,
      "outputs": [
        {
          "output_type": "display_data",
          "data": {
            "image/png": "[encoded data removed]",
            "text/plain": [
              "<Figure size 864x432 with 1 Axes>"
            ]
          },
          "metadata": {
            "tags": [],
            "needs_background": "light"
          }
        },
        {
          "output_type": "stream",
          "text": [
            "% of total\n",
            "0     76.05\n",
            "1      8.38\n",
            "2      6.28\n",
            "3      3.12\n",
            "4      1.98\n",
            "5      1.50\n",
            "6      0.62\n",
            "7      0.52\n",
            "8      0.45\n",
            "10     0.25\n",
            "9      0.22\n",
            "14     0.12\n",
            "12     0.12\n",
            "13     0.10\n",
            "19     0.10\n",
            "11     0.08\n",
            "23     0.02\n",
            "18     0.02\n",
            "58     0.02\n",
            "30     0.02\n",
            "Name: PrevAttempts, dtype: float64\n"
          ],
          "name": "stdout"
        }
      ]
    },
    {
      "cell_type": "markdown",
      "metadata": {
        "id": "ZDvNreOkPPrk"
      },
      "source": [
        "### age group\r\n",
        "\r\n",
        "- young adult - 18-29\r\n",
        "- adult - 30-39\r\n",
        "- middle aged - 40-49\r\n",
        "- veteran - 50-59\r\n",
        "- senior - 60+"
      ]
    },
    {
      "cell_type": "code",
      "metadata": {
        "id": "q-v0_oqTOauV"
      },
      "source": [
        "# create a new column with the age group\r\n",
        "bins = [18, 30, 40, 50, 60, 100]\r\n",
        "labels = ['young adult', 'adult', 'middle aged', 'veteran', 'senior']\r\n",
        "df_train['Age_Group'] = pd.cut(df_train['Age'], bins=bins, labels=labels, right=False)"
      ],
      "execution_count": 75,
      "outputs": []
    },
    {
      "cell_type": "markdown",
      "metadata": {
        "id": "DBnMbE1XQXH7"
      },
      "source": [
        "### call season\r\n",
        "\r\n",
        "- Winter\r\n",
        "- Spring\r\n",
        "- Summer\r\n",
        "- Fall"
      ]
    },
    {
      "cell_type": "code",
      "metadata": {
        "id": "fFSVMO_KQPzT",
        "colab": {
          "base_uri": "https://localhost:8080/"
        },
        "outputId": "9a580f03-f53b-48c5-f29b-f01d2e3c0669"
      },
      "source": [
        "# create a new column with the call season\r\n",
        "seasons = {'dec': 0, 'jan': 1, 'feb': 2, 'mar': 3, 'apr': 4, 'may': 5, 'jun': 6, 'jul': 7, 'aug': 8, 'sep': 9, 'oct': 10, 'nov': 11}\r\n",
        "df_train = df_train.applymap(lambda lable: seasons.get(lable) if lable in seasons else lable)\r\n",
        "bins = [0, 3, 6, 9, 12]\r\n",
        "labels = ['winter', 'spring', 'summer', 'fall']\r\n",
        "df_train['LC_Seasons'] = pd.cut(df_train['LastContactMonth'], bins=bins, labels=labels, right=False)\r\n",
        "df_train['LC_Seasons'].head()"
      ],
      "execution_count": 76,
      "outputs": [
        {
          "output_type": "execute_result",
          "data": {
            "text/plain": [
              "Id\n",
              "1    winter\n",
              "2    spring\n",
              "3    summer\n",
              "4    spring\n",
              "5    summer\n",
              "Name: LC_Seasons, dtype: category\n",
              "Categories (4, object): ['winter' < 'spring' < 'summer' < 'fall']"
            ]
          },
          "metadata": {
            "tags": []
          },
          "execution_count": 76
        }
      ]
    },
    {
      "cell_type": "markdown",
      "metadata": {
        "id": "k-EqXHlHmuWi"
      },
      "source": [
        "### call month period\r\n",
        "\r\n",
        "- begining\r\n",
        "- middle\r\n",
        "- end"
      ]
    },
    {
      "cell_type": "code",
      "metadata": {
        "colab": {
          "base_uri": "https://localhost:8080/"
        },
        "id": "vVjBMd8BmEm2",
        "outputId": "f84bd155-29ac-4da0-a77f-0c4043a3b82f"
      },
      "source": [
        "# create a new column with call moth period\r\n",
        "bins = [0, 10, 20, 32]\r\n",
        "labels = ['begining', 'middle', 'end']\r\n",
        "df_train['LC_Month_Period'] = pd.cut(df_train['LastContactDay'], bins=bins, labels=labels, right=False)\r\n",
        "df_train['LC_Month_Period'].head()"
      ],
      "execution_count": 77,
      "outputs": [
        {
          "output_type": "execute_result",
          "data": {
            "text/plain": [
              "Id\n",
              "1         end\n",
              "2         end\n",
              "3    begining\n",
              "4      middle\n",
              "5    begining\n",
              "Name: LC_Month_Period, dtype: category\n",
              "Categories (3, object): ['begining' < 'middle' < 'end']"
            ]
          },
          "metadata": {
            "tags": []
          },
          "execution_count": 77
        }
      ]
    },
    {
      "cell_type": "markdown",
      "metadata": {
        "id": "God_vQPWozYA"
      },
      "source": [
        "### balance status\r\n",
        "\r\n",
        "- negative balance\r\n",
        "- low\r\n",
        "- mid\r\n",
        "- high"
      ]
    },
    {
      "cell_type": "code",
      "metadata": {
        "colab": {
          "base_uri": "https://localhost:8080/"
        },
        "id": "TvYz9T6roeo2",
        "outputId": "355550ae-bc0a-4062-99f9-c3541fa27065"
      },
      "source": [
        "# create a new column with the balance status\r\n",
        "df_train['Balance_status'] = pd.cut(df_train['Balance'], bins = [-4000, 0, 1000, 5000, 100000], labels = ['negative balance', 'low', 'mid', 'high'], include_lowest=True)\r\n",
        "df_train['Balance_status'].head()"
      ],
      "execution_count": 78,
      "outputs": [
        {
          "output_type": "execute_result",
          "data": {
            "text/plain": [
              "Id\n",
              "1    mid\n",
              "2    mid\n",
              "3    low\n",
              "4    low\n",
              "5    mid\n",
              "Name: Balance_status, dtype: category\n",
              "Categories (4, object): ['negative balance' < 'low' < 'mid' < 'high']"
            ]
          },
          "metadata": {
            "tags": []
          },
          "execution_count": 78
        }
      ]
    },
    {
      "cell_type": "code",
      "metadata": {
        "colab": {
          "base_uri": "https://localhost:8080/",
          "height": 1000
        },
        "id": "SKWPzhcdpkiA",
        "outputId": "e4055ea4-98e2-4bb5-c363-8b557eca4555"
      },
      "source": [
        "# plot the new features\r\n",
        "cols = df_train.columns.to_list()\r\n",
        "for col in cols[19:]:\r\n",
        "  plt.figure(figsize=(10, 4))\r\n",
        "  sns.countplot(x=col, data=df_train, palette='icefire')\r\n",
        "  plt.title('Number of people by age group', fontsize=14)\r\n",
        "  plt.show()\r\n",
        "  print('% of total:')\r\n",
        "  print(round((df_train[col].value_counts()/df_train.shape[0]), 4) * 100)"
      ],
      "execution_count": 79,
      "outputs": [
        {
          "output_type": "display_data",
          "data": {
            "image/png": "[encoded data removed]",
            "text/plain": [
              "<Figure size 720x288 with 1 Axes>"
            ]
          },
          "metadata": {
            "tags": [],
            "needs_background": "light"
          }
        },
        {
          "output_type": "stream",
          "text": [
            "% of total:\n",
            "summer    39.08\n",
            "spring    35.85\n",
            "fall      14.15\n",
            "winter    10.92\n",
            "Name: LC_Seasons, dtype: float64\n"
          ],
          "name": "stdout"
        },
        {
          "output_type": "display_data",
          "data": {
            "image/png": "[encoded data removed]",
            "text/plain": [
              "<Figure size 720x288 with 1 Axes>"
            ]
          },
          "metadata": {
            "tags": [],
            "needs_background": "light"
          }
        },
        {
          "output_type": "stream",
          "text": [
            "% of total:\n",
            "middle      36.72\n",
            "end         34.35\n",
            "begining    28.92\n",
            "Name: LC_Month_Period, dtype: float64\n"
          ],
          "name": "stdout"
        },
        {
          "output_type": "display_data",
          "data": {
            "image/png": "[encoded data removed]",
            "text/plain": [
              "<Figure size 720x288 with 1 Axes>"
            ]
          },
          "metadata": {
            "tags": [],
            "needs_background": "light"
          }
        },
        {
          "output_type": "stream",
          "text": [
            "% of total:\n",
            "low                 51.10\n",
            "mid                 27.58\n",
            "negative balance    14.35\n",
            "high                 6.98\n",
            "Name: Balance_status, dtype: float64\n"
          ],
          "name": "stdout"
        }
      ]
    },
    {
      "cell_type": "code",
      "metadata": {
        "colab": {
          "base_uri": "https://localhost:8080/",
          "height": 374
        },
        "id": "NIBkf6TXr_SW",
        "outputId": "e2dc7338-7eff-4d6c-f712-99a2145d9c68"
      },
      "source": [
        "plt.figure(figsize=(30, 12))\r\n",
        "plt.subplot(2, 3, 1)\r\n",
        "sns.countplot(x='Marital', hue='CarInsurance', data=df_train, palette='coolwarm_r')\r\n",
        "plt.xlabel('Marital', fontsize=8)\r\n",
        "plt.legend(('0: insurance not subscribed', '1: insurance subscribed'), loc='upper left')"
      ],
      "execution_count": 80,
      "outputs": [
        {
          "output_type": "execute_result",
          "data": {
            "text/plain": [
              "<matplotlib.legend.Legend at 0x7f3dc25575f8>"
            ]
          },
          "metadata": {
            "tags": []
          },
          "execution_count": 80
        },
        {
          "output_type": "display_data",
          "data": {
            "image/png": "[encoded data removed]",
            "text/plain": [
              "<Figure size 2160x864 with 1 Axes>"
            ]
          },
          "metadata": {
            "tags": [],
            "needs_background": "light"
          }
        }
      ]
    },
    {
      "cell_type": "code",
      "metadata": {
        "colab": {
          "base_uri": "https://localhost:8080/",
          "height": 376
        },
        "id": "g-24iuuT1ZS6",
        "outputId": "00262cb5-dbb2-47d0-bf2e-1ab00aef9fb1"
      },
      "source": [
        "plt.figure(figsize=(30, 12))\r\n",
        "plt.subplot(2, 3, 1)\r\n",
        "sns.countplot(x='Education', hue='CarInsurance', data=df_train, palette='coolwarm_r')\r\n",
        "plt.xlabel('Education', fontsize= 8)\r\n",
        "plt.legend(('0: insurance not subscribed', '1: insurance subscribed'), loc='upper left')"
      ],
      "execution_count": 81,
      "outputs": [
        {
          "output_type": "execute_result",
          "data": {
            "text/plain": [
              "<matplotlib.legend.Legend at 0x7f3dc274f5f8>"
            ]
          },
          "metadata": {
            "tags": []
          },
          "execution_count": 81
        },
        {
          "output_type": "display_data",
          "data": {
            "image/png": "[encoded data removed]",
            "text/plain": [
              "<Figure size 2160x864 with 1 Axes>"
            ]
          },
          "metadata": {
            "tags": [],
            "needs_background": "light"
          }
        }
      ]
    },
    {
      "cell_type": "markdown",
      "metadata": {
        "id": "5j34SIab22Zb"
      },
      "source": [
        "## Insert into the test set the new features"
      ]
    },
    {
      "cell_type": "code",
      "metadata": {
        "colab": {
          "base_uri": "https://localhost:8080/"
        },
        "id": "f8qaEvPU2Kni",
        "outputId": "1ec9b7f4-9320-4b5c-fa3e-81a63a8478d7"
      },
      "source": [
        "# age group\r\n",
        "df_test['Age_Group'] = pd.cut(df_test['Age'], bins=[18, 30, 40, 50, 60, 100], labels=['young adult', 'adult', 'middle aged', 'veteran', 'senior'], right=False)\r\n",
        "\r\n",
        "# seasons\r\n",
        "df_test = df_test.applymap(lambda lable: seasons.get(lable) if lable in seasons else lable)\r\n",
        "df_test['LC_Seasons'] = pd.cut(df_test['LastContactMonth'], bins=[0, 3, 6, 9, 12], labels=['winter', 'spring', 'summer', 'fall'], right=False)\r\n",
        "\r\n",
        "# month period\r\n",
        "df_test['LC_Month_Period'] = pd.cut(df_test['LastContactDay'], bins=[0, 10, 20, 32], labels=['begining', 'middle', 'end'], right=False)\r\n",
        "\r\n",
        "# balance status\r\n",
        "df_test['Balance_status'] = pd.cut(df_test['Balance'], bins = [-4000, 0, 1000, 5000, 100000], labels=['negative balance', 'low', 'mid', 'high'], include_lowest=True)\r\n",
        "\r\n",
        "# reoder the columns including the new ones\r\n",
        "reorder_columns = ['Job', 'HHInsurance', 'CarLoan', 'PrevAttempts', 'Outcome',  'Age_Group', 'LC_Seasons', 'LC_Month_Period', 'Balance_status', 'CarInsurance']\r\n",
        "df_train = df_train[reorder_columns]\r\n",
        "df_test = df_test[reorder_columns]\r\n",
        "print(df_train.info())\r\n",
        "print(df_test.info())"
      ],
      "execution_count": 82,
      "outputs": [
        {
          "output_type": "stream",
          "text": [
            "<class 'pandas.core.frame.DataFrame'>\n",
            "Int64Index: 4000 entries, 1 to 4000\n",
            "Data columns (total 10 columns):\n",
            " #   Column           Non-Null Count  Dtype   \n",
            "---  ------           --------------  -----   \n",
            " 0   Job              4000 non-null   object  \n",
            " 1   HHInsurance      4000 non-null   int64   \n",
            " 2   CarLoan          4000 non-null   int64   \n",
            " 3   PrevAttempts     4000 non-null   int64   \n",
            " 4   Outcome          4000 non-null   object  \n",
            " 5   Age_Group        4000 non-null   object  \n",
            " 6   LC_Seasons       4000 non-null   category\n",
            " 7   LC_Month_Period  4000 non-null   category\n",
            " 8   Balance_status   4000 non-null   category\n",
            " 9   CarInsurance     4000 non-null   int64   \n",
            "dtypes: category(3), int64(4), object(3)\n",
            "memory usage: 422.2+ KB\n",
            "None\n",
            "<class 'pandas.core.frame.DataFrame'>\n",
            "Int64Index: 1000 entries, 4001 to 5000\n",
            "Data columns (total 10 columns):\n",
            " #   Column           Non-Null Count  Dtype   \n",
            "---  ------           --------------  -----   \n",
            " 0   Job              1000 non-null   object  \n",
            " 1   HHInsurance      1000 non-null   int64   \n",
            " 2   CarLoan          1000 non-null   int64   \n",
            " 3   PrevAttempts     1000 non-null   int64   \n",
            " 4   Outcome          1000 non-null   object  \n",
            " 5   Age_Group        1000 non-null   object  \n",
            " 6   LC_Seasons       1000 non-null   category\n",
            " 7   LC_Month_Period  1000 non-null   category\n",
            " 8   Balance_status   1000 non-null   category\n",
            " 9   CarInsurance     0 non-null      float64 \n",
            "dtypes: category(3), float64(1), int64(3), object(3)\n",
            "memory usage: 65.9+ KB\n",
            "None\n"
          ],
          "name": "stdout"
        }
      ]
    },
    {
      "cell_type": "code",
      "metadata": {
        "id": "0dpRgE355yjs"
      },
      "source": [
        ""
      ],
      "execution_count": 82,
      "outputs": []
    },
    {
      "cell_type": "markdown",
      "metadata": {
        "id": "k_5HpZdByeUg"
      },
      "source": [
        "## Feature enconding\r\n",
        "- one hot enconding\r\n",
        "- label enconding"
      ]
    },
    {
      "cell_type": "code",
      "metadata": {
        "id": "e32Mhbyc2_HK",
        "colab": {
          "base_uri": "https://localhost:8080/"
        },
        "outputId": "d21d7312-ecbd-44e8-b994-6a381ff4093f"
      },
      "source": [
        "# label enconding\r\n",
        "le = LabelEncoder()\r\n",
        "labels = ['Age_Group', 'LC_Seasons', 'LC_Month_Period', 'Balance_status']\r\n",
        "\r\n",
        "for i in labels:\r\n",
        "  df_train[i] = le.fit_transform(df_train[i])\r\n",
        "  df_test[i] = le.fit_transform(df_test[i])\r\n",
        "\r\n",
        "# one hot encoding\r\n",
        "cols = ['Job', 'Outcome']\r\n",
        "one_hot = OneHotEncoder(handle_unknown='ignore', sparse=False)\r\n",
        "df_train_onehot = pd.DataFrame(one_hot.fit_transform(df_train[cols])).astype('int64')\r\n",
        "df_test_onehot = pd.DataFrame(one_hot.fit_transform(df_test[cols])).astype('int64')\r\n",
        "\r\n",
        "# get feature columns\r\n",
        "df_train_onehot.columns = one_hot.get_feature_names(cols)\r\n",
        "df_test_onehot.columns = one_hot.get_feature_names(cols)\r\n",
        "\r\n",
        "# Put the index back\r\n",
        "df_train_onehot.index = df_train.index\r\n",
        "df_test_onehot.index = df_test.index\r\n",
        "\r\n",
        "df_train_fe = pd.concat([df_train, df_train_onehot], axis=1)\r\n",
        "df_test_fe = pd.concat([df_test, df_test_onehot], axis=1)\r\n",
        "\r\n",
        "# creating new columns names with the feature engeenired\r\n",
        "df_train_fe = df_train_fe.drop(cols, axis=1)\r\n",
        "df_test_fe = df_test_fe.drop(cols, axis=1)\r\n",
        "\r\n",
        "print(df_train_fe.info())\r\n",
        "print(df_test_fe.info())"
      ],
      "execution_count": 83,
      "outputs": [
        {
          "output_type": "stream",
          "text": [
            "<class 'pandas.core.frame.DataFrame'>\n",
            "Int64Index: 4000 entries, 1 to 4000\n",
            "Data columns (total 23 columns):\n",
            " #   Column                       Non-Null Count  Dtype\n",
            "---  ------                       --------------  -----\n",
            " 0   HHInsurance                  4000 non-null   int64\n",
            " 1   CarLoan                      4000 non-null   int64\n",
            " 2   PrevAttempts                 4000 non-null   int64\n",
            " 3   Age_Group                    4000 non-null   int64\n",
            " 4   LC_Seasons                   4000 non-null   int64\n",
            " 5   LC_Month_Period              4000 non-null   int64\n",
            " 6   Balance_status               4000 non-null   int64\n",
            " 7   CarInsurance                 4000 non-null   int64\n",
            " 8   Job_admin.                   4000 non-null   int64\n",
            " 9   Job_blue-collar              4000 non-null   int64\n",
            " 10  Job_entrepreneur             4000 non-null   int64\n",
            " 11  Job_housemaid                4000 non-null   int64\n",
            " 12  Job_management               4000 non-null   int64\n",
            " 13  Job_retired                  4000 non-null   int64\n",
            " 14  Job_self-employed            4000 non-null   int64\n",
            " 15  Job_services                 4000 non-null   int64\n",
            " 16  Job_student                  4000 non-null   int64\n",
            " 17  Job_technician               4000 non-null   int64\n",
            " 18  Job_unemployed               4000 non-null   int64\n",
            " 19  Outcome_failure              4000 non-null   int64\n",
            " 20  Outcome_no previous contact  4000 non-null   int64\n",
            " 21  Outcome_other                4000 non-null   int64\n",
            " 22  Outcome_success              4000 non-null   int64\n",
            "dtypes: int64(23)\n",
            "memory usage: 910.0 KB\n",
            "None\n",
            "<class 'pandas.core.frame.DataFrame'>\n",
            "Int64Index: 1000 entries, 4001 to 5000\n",
            "Data columns (total 23 columns):\n",
            " #   Column                       Non-Null Count  Dtype  \n",
            "---  ------                       --------------  -----  \n",
            " 0   HHInsurance                  1000 non-null   int64  \n",
            " 1   CarLoan                      1000 non-null   int64  \n",
            " 2   PrevAttempts                 1000 non-null   int64  \n",
            " 3   Age_Group                    1000 non-null   int64  \n",
            " 4   LC_Seasons                   1000 non-null   int64  \n",
            " 5   LC_Month_Period              1000 non-null   int64  \n",
            " 6   Balance_status               1000 non-null   int64  \n",
            " 7   CarInsurance                 0 non-null      float64\n",
            " 8   Job_admin.                   1000 non-null   int64  \n",
            " 9   Job_blue-collar              1000 non-null   int64  \n",
            " 10  Job_entrepreneur             1000 non-null   int64  \n",
            " 11  Job_housemaid                1000 non-null   int64  \n",
            " 12  Job_management               1000 non-null   int64  \n",
            " 13  Job_retired                  1000 non-null   int64  \n",
            " 14  Job_self-employed            1000 non-null   int64  \n",
            " 15  Job_services                 1000 non-null   int64  \n",
            " 16  Job_student                  1000 non-null   int64  \n",
            " 17  Job_technician               1000 non-null   int64  \n",
            " 18  Job_unemployed               1000 non-null   int64  \n",
            " 19  Outcome_failure              1000 non-null   int64  \n",
            " 20  Outcome_no previous contact  1000 non-null   int64  \n",
            " 21  Outcome_other                1000 non-null   int64  \n",
            " 22  Outcome_success              1000 non-null   int64  \n",
            "dtypes: float64(1), int64(22)\n",
            "memory usage: 187.5 KB\n",
            "None\n"
          ],
          "name": "stdout"
        }
      ]
    },
    {
      "cell_type": "markdown",
      "metadata": {
        "id": "iT5FJrzZ3uEo"
      },
      "source": [
        "## Machine learning algorithms"
      ]
    },
    {
      "cell_type": "code",
      "metadata": {
        "id": "uuihrC5Q3VXS"
      },
      "source": [
        "# preparing the dataset to fit the model\r\n",
        "X = df_train_fe.drop('CarInsurance', axis=1)\r\n",
        "y = df_train_fe['CarInsurance']\r\n",
        "\r\n",
        "# split the dataset into train and test set\r\n",
        "X_train, X_test, y_train, x_train = train_test_split(X, y, test_size = 0.7, random_state = 100)"
      ],
      "execution_count": 84,
      "outputs": []
    },
    {
      "cell_type": "code",
      "metadata": {
        "id": "BANCmKeq5H9_"
      },
      "source": [
        "# create a method to apply the algorithms\r\n",
        "def cross_val(model_name, model, X, y, cv):\r\n",
        "  score = CVS(model, X, y, cv=cv)\r\n",
        "  print(f'{model_name} Scores:')\r\n",
        "  for i in score:\r\n",
        "    print(round(i, 2))\r\n",
        "  print(f'Average {model_name} score: {round(score.mean(), 4)}')\r\n",
        "\r\n",
        "index = ['Validation1', 'Validation2', 'Validation3', 'Validation4', 'Validation5']\r\n",
        "scoring = ['accuracy', 'precision', 'recall', 'f1']"
      ],
      "execution_count": 85,
      "outputs": []
    },
    {
      "cell_type": "code",
      "metadata": {
        "colab": {
          "base_uri": "https://localhost:8080/"
        },
        "id": "0xn91g6B70u0",
        "outputId": "c0c43183-7526-4578-d917-5bb155e4ae24"
      },
      "source": [
        "# Logistic regression\r\n",
        "lr = LogisticRegression()\r\n",
        "lr_report = pd.DataFrame(cross_validate(lr, X, y, scoring=scoring))\r\n",
        "lr_report = lr_report.iloc[:, 2:]\r\n",
        "lr_report.columns = scoring\r\n",
        "lr_report.index = index\r\n",
        "model_1 = []\r\n",
        "\r\n",
        "# classification report\r\n",
        "print('Classification report:\\n')\r\n",
        "print(lr_report, '\\n\\n')\r\n",
        "print('Mean scores:\\n')\r\n",
        "for score in scoring:\r\n",
        "  print(f'\\t{score}: {round(lr_report[score].mean(), 4)}')\r\n",
        "  model_1.append(round(lr_report[score].mean(), 4))"
      ],
      "execution_count": 86,
      "outputs": [
        {
          "output_type": "stream",
          "text": [
            "Classification report:\n",
            "\n",
            "             accuracy  precision    recall        f1\n",
            "Validation1   0.67375   0.712230  0.309375  0.431373\n",
            "Validation2   0.67875   0.695122  0.355140  0.470103\n",
            "Validation3   0.71000   0.779874  0.386293  0.516667\n",
            "Validation4   0.70000   0.771812  0.358255  0.489362\n",
            "Validation5   0.67750   0.720280  0.320872  0.443966 \n",
            "\n",
            "\n",
            "Mean scores:\n",
            "\n",
            "\taccuracy: 0.688\n",
            "\tprecision: 0.7359\n",
            "\trecall: 0.346\n",
            "\tf1: 0.4703\n"
          ],
          "name": "stdout"
        }
      ]
    },
    {
      "cell_type": "code",
      "metadata": {
        "colab": {
          "base_uri": "https://localhost:8080/"
        },
        "id": "Uthy8cjp9Pph",
        "outputId": "59bd66ca-165f-4e5e-b215-ca4e06719474"
      },
      "source": [
        "# Random forest\r\n",
        "random_forest = RandomForestClassifier()\r\n",
        "random_forest_report = pd.DataFrame(cross_validate(random_forest, X, y, scoring=scoring))\r\n",
        "random_forest_report = random_forest_report.iloc[:, 2:]\r\n",
        "random_forest_report.columns = scoring\r\n",
        "random_forest_report.index = index\r\n",
        "model_2 = []\r\n",
        "\r\n",
        "# classification report\r\n",
        "print('Classification report:\\n')\r\n",
        "print(random_forest_report, '\\n\\n')\r\n",
        "print('Mean scores:\\n')\r\n",
        "for score in scoring:\r\n",
        "  print(f'\\t{score}: {round(random_forest_report[score].mean(), 4)}')\r\n",
        "  model_2.append(round(random_forest_report[score].mean(), 4))"
      ],
      "execution_count": 87,
      "outputs": [
        {
          "output_type": "stream",
          "text": [
            "Classification report:\n",
            "\n",
            "             accuracy  precision    recall        f1\n",
            "Validation1   0.64625   0.571429  0.462500  0.511226\n",
            "Validation2   0.65875   0.586957  0.504673  0.542714\n",
            "Validation3   0.69250   0.635379  0.548287  0.588629\n",
            "Validation4   0.64125   0.562500  0.476636  0.516020\n",
            "Validation5   0.65625   0.589147  0.473520  0.525043 \n",
            "\n",
            "\n",
            "Mean scores:\n",
            "\n",
            "\taccuracy: 0.659\n",
            "\tprecision: 0.5891\n",
            "\trecall: 0.4931\n",
            "\tf1: 0.5367\n"
          ],
          "name": "stdout"
        }
      ]
    },
    {
      "cell_type": "markdown",
      "metadata": {
        "id": "WmDgfQuXkxHm"
      },
      "source": [
        "## Results for test set\r\n",
        "In this problem the most important metrict to look for is recall, which identifies the percentage of correct positives out of all positives, in other words the percentage which the model predict that It would buy the insurance and It bought the insurance. So the algorithm that is better in recall is random forest"
      ]
    },
    {
      "cell_type": "code",
      "metadata": {
        "colab": {
          "base_uri": "https://localhost:8080/"
        },
        "id": "K_KvtDlS-7Kp",
        "outputId": "2942c850-276c-4231-9350-808f8142d700"
      },
      "source": [
        "# apply random forest to predict the number of people, who will buy the insurance\r\n",
        "# fit the model\r\n",
        "random_forest.fit(X, y)\r\n",
        "X_test = df_test_fe.drop('CarInsurance', axis=1)\r\n",
        "# predict\r\n",
        "df_test_fe['CarInsurance'] = random_forest.predict(X_test)\r\n",
        "df_test_fe['CarInsurance'] = df_test_fe['CarInsurance'].apply(lambda x: 'It will not buy insurance' if x==0 else 'It will buy insurance')\r\n",
        "columns = ['HHInsurance', 'CarLoan', 'PrevAttempts',  'Age_Group',\r\n",
        "       'LC_Seasons', 'LC_Month_Period',  \r\n",
        "       'Balance_status', 'Job_admin.', 'Job_blue-collar',\r\n",
        "       'Job_entrepreneur', 'Job_housemaid', 'Job_management', 'Job_retired',\r\n",
        "       'Job_self-employed', 'Job_services', 'Job_student', 'Job_technician',\r\n",
        "       'Job_unemployed', 'Outcome_failure',\r\n",
        "       'Outcome_other', 'Outcome_success', 'CarInsurance']\r\n",
        "df_test_fe = df_test_fe[columns]\r\n",
        "df_test_fe['CarInsurance'].value_counts()"
      ],
      "execution_count": 88,
      "outputs": [
        {
          "output_type": "execute_result",
          "data": {
            "text/plain": [
              "It will not buy insurance    681\n",
              "It will buy insurance        319\n",
              "Name: CarInsurance, dtype: int64"
            ]
          },
          "metadata": {
            "tags": []
          },
          "execution_count": 88
        }
      ]
    },
    {
      "cell_type": "code",
      "metadata": {
        "id": "uT69eXODAO5J"
      },
      "source": [
        ""
      ],
      "execution_count": 88,
      "outputs": []
    }
  ]
}